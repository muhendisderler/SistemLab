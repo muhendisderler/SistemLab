{
  "nbformat": 4,
  "nbformat_minor": 0,
  "metadata": {
    "colab": {
      "name": "gates_perceptron_1.ipynb adlı not defterinin kopyası",
      "provenance": [],
      "collapsed_sections": [],
      "include_colab_link": true
    },
    "kernelspec": {
      "name": "python3",
      "display_name": "Python 3"
    },
    "language_info": {
      "name": "python"
    }
  },
  "cells": [
    {
      "cell_type": "markdown",
      "metadata": {
        "id": "view-in-github",
        "colab_type": "text"
      },
      "source": [
        "<a href=\"https://colab.research.google.com/github/muhendisderler/SistemLab/blob/main/gates_perceptron_1_ipynb_adl%C4%B1_not_defterinin_kopyas%C4%B1.ipynb\" target=\"_parent\"><img src=\"https://colab.research.google.com/assets/colab-badge.svg\" alt=\"Open In Colab\"/></a>"
      ]
    },
    {
      "cell_type": "code",
      "source": [
        "# Ibrahim R Hallac\n",
        "# https://github.com/irhallac\n",
        "# Lojik kapıların Perceptron öğrenme algoritmasıyla modellenmesi"
      ],
      "metadata": {
        "id": "I7sz4vaJQpvM"
      },
      "execution_count": null,
      "outputs": []
    },
    {
      "cell_type": "code",
      "source": [
        "import matplotlib.pyplot as plt\n",
        "import numpy as np"
      ],
      "metadata": {
        "id": "8MkfMisUP8f6"
      },
      "execution_count": null,
      "outputs": []
    },
    {
      "cell_type": "code",
      "source": [
        "giris = np.array([[0,0,1], [0,1,1], [1,0,1], [1,1,1]])\n",
        "cikis = np.array([0, 0, 0, 1]) #x_or\n",
        "\n",
        "# np.array([1, 0, 0, 0]) # and\n",
        "#np.array([1, 1, 1, 0]) #or\n",
        "#np.array([0, 1, 1, 0]) #ex_or"
      ],
      "metadata": {
        "id": "oV822TTdP-Sb"
      },
      "execution_count": null,
      "outputs": []
    },
    {
      "cell_type": "code",
      "source": [
        "plt.title('XOR KAPISI', fontsize=16)\n",
        "plt.scatter(giris[:,0], giris[:,1], s=400, c = cikis)\n",
        "plt.grid() \n",
        "plt.show()"
      ],
      "metadata": {
        "colab": {
          "base_uri": "https://localhost:8080/",
          "height": 283
        },
        "id": "NReZcr26P6wD",
        "outputId": "b8c94e81-9fe5-4a9d-d99b-ebec16ba2165"
      },
      "execution_count": null,
      "outputs": [
        {
          "output_type": "display_data",
          "data": {
            "image/png": "[encoded data removed]",
            "text/plain": [
              "<Figure size 432x288 with 1 Axes>"
            ]
          },
          "metadata": {
            "needs_background": "light"
          }
        }
      ]
    },
    {
      "cell_type": "code",
      "source": [
        "ogrenme_orani = 0.1\n",
        "iter_sayisi = 10\n",
        "\n",
        "\n",
        "w = np.zeros(1 + giris.shape[1])\n",
        "hatalar = []\n",
        "for _ in range(iter_sayisi):\n",
        "  hata = 0\n",
        "  for xi, hedef in zip(giris, cikis):\n",
        "    hesap = np.dot(xi, w[1:]) + w[0]\n",
        "    tahmin = np.where(hesap >= 0.0, 1, 0)\n",
        "    degisim = ogrenme_orani * (hedef - tahmin)\n",
        "    w[1:] += degisim * xi\n",
        "    w[0] += degisim\n",
        "    hata += int(degisim != 0.0)\n",
        "  hatalar.append(hata)"
      ],
      "metadata": {
        "id": "QDrUFqZW6p5v"
      },
      "execution_count": null,
      "outputs": []
    },
    {
      "cell_type": "code",
      "source": [
        "hatalar"
      ],
      "metadata": {
        "colab": {
          "base_uri": "https://localhost:8080/"
        },
        "id": "QVZKIuxF45H-",
        "outputId": "260ac6ab-0e14-41e2-c743-03d232aea463"
      },
      "execution_count": null,
      "outputs": [
        {
          "output_type": "execute_result",
          "data": {
            "text/plain": [
              "[2, 1, 0, 0, 0, 0, 0, 0, 0, 0]"
            ]
          },
          "metadata": {},
          "execution_count": 20
        }
      ]
    },
    {
      "cell_type": "code",
      "source": [
        "w"
      ],
      "metadata": {
        "colab": {
          "base_uri": "https://localhost:8080/"
        },
        "id": "PFywv_8O472b",
        "outputId": "981caeba-8a9c-43ef-dcee-5269eba21147"
      },
      "execution_count": null,
      "outputs": [
        {
          "output_type": "execute_result",
          "data": {
            "text/plain": [
              "array([-0.1,  0.1,  0.1])"
            ]
          },
          "metadata": {},
          "execution_count": 8
        }
      ]
    },
    {
      "cell_type": "code",
      "source": [
        "plt.plot(range(1, len(hatalar) + 1), hatalar)\n",
        "plt.xlabel('Deneme No')\n",
        "plt.ylabel('Hatalı tahmin sayısı')\n",
        "plt.show()"
      ],
      "metadata": {
        "colab": {
          "base_uri": "https://localhost:8080/",
          "height": 279
        },
        "id": "R_4EIZEVXJpT",
        "outputId": "d73c7dd6-7a94-4f8b-e3bf-07d971a04f4a"
      },
      "execution_count": null,
      "outputs": [
        {
          "output_type": "display_data",
          "data": {
            "image/png": "[encoded data removed]",
            "text/plain": [
              "<Figure size 432x288 with 1 Axes>"
            ]
          },
          "metadata": {
            "needs_background": "light"
          }
        }
      ]
    },
    {
      "cell_type": "code",
      "source": [
        ""
      ],
      "metadata": {
        "id": "DuyQLjKa5ep8"
      },
      "execution_count": null,
      "outputs": []
    }
  ]
}